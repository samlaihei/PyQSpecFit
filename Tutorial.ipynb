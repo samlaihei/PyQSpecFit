{
 "cells": [
  {
   "cell_type": "markdown",
   "id": "9b97ee5b-21f8-4055-b216-0c1dcc7e62ae",
   "metadata": {
    "tags": []
   },
   "source": [
    "\n",
    "# PyQSpecFit\n",
    "This is a tutorial notebook for __[PyQSpecFit](https://github.com/samlaihei/PyQSpecFit)__, a flexible and user-friendly code designed for spectral modelling emission features in QSO spectra or continuum-subtracted spectra. The key features of this code are:\n",
    "-  Fit the QSO continuum with a combined pseudo-continuum model composed of a power-law, Balmer continuum, and FeII flux. We include four main semi-empirical and empirical FeII templates.\n",
    "-  Fit line complexes with a user-defined number of broad and narrow Gaussians profiles. \n",
    "-  Measure properties of the modelled lines (integrated flux, EW, FWHM, line dispersion, peak, wavelength shift, etc). Realistic uncertainties can be obtained by using the error spectrum to resample and re-fit the data.\n",
    "-  Plot the data with the modelled continuum and emission-line profiles. \n",
    "\n",
    "### Installation\n",
    "The recommended installation method is to use conda virtual environments. The environment.yml file is provided for quick setup. Navigate to your designated installation directory and run in the terminal,\n",
    "```\n",
    "git clone https://github.com/samlaihei/PyQSpecFit.git\n",
    "cd PyQSpecFit\n",
    "conda env create -f environment.yml\n",
    "```\n",
    "which will install all required packages and dependencies. The code was tested on Python 3.6 and Python 3.11.\n",
    "\n",
    "\n",
    "### Features \n",
    "-  Fit one line complex or simultaneously fit many line complexes with multiple Gaussian components with user-defined fitting thresholds. Realistic errors can be measured by perturbing the data with the error spectrum.\n",
    "-  At least 4 semi-empirical and empirical FeII templates for the QSO pseudocontinuum, along with a power-law and Balmer component. The multiple FeII templates can be used to inform the systematic uncertainty.\n",
    "-  Sigma clipping and/or smoothing can be used to remove/minimise the effects of narrow features which may influence the measurement of an intrinsic line model. It's also used to dampen noise. The sigma-clipping can also be set to remove the base of absorption features by defining a buffer zone.\n",
    "-  Continuum-fitting and line-fitting regions is fully customisable, so it is simple to mask particular regions (e.g. telluric regions) from fitting.\n",
    "-  Properties of the desired line model (which can be composed of multiple Gaussians) can easily be evaluated. Narrow/broad components of the same line can be evaluated together or separately.\n",
    "-  Results of the line and continuum fits are saved to file and can be retrieved, re-evaluated, or re-plotted at any time.\n",
    "-  Plotting routine is customisable, and allows the user to design the plots separately before feeding the matplotlib axes class to the plotting method. \n",
    "-  Although not supported by default, it is straightforward to modify the code to attempt to fit absorption lines. Skewed Gaussian profiles are also supported, but is turned off by default in favour of the multiple Gaussian approach.\n",
    "-  _Most_ of the fitting parameters can be customised in a single .csv file, with each row a different run, making it trivial to fit multiple different targets quickly or the same target in different ways.  \n",
    "\n",
    "### Authors\n",
    "__[Samuel Lai](https://orcid.org/0000-0001-9372-4611)__; samuel.lai(at)anu.edu.au (Australian National University)\n",
    "\n",
    "### Acknowledgements\n",
    "If you found this code useful in any capacity, we would appreciate it if you could cite us. Please refer to the __[README.md](https://github.com/samlaihei/PyQSpecFit)__ in the repository for the most up-to-date citation.\n",
    "\n",
    "\n",
    "### General Usage Procedure\n",
    "1. You may wish to apply extinction correction or galaxy decomposition prior to using your spectrum as an input for this code. \n",
    "1. Place your data in the __[data/](https://github.com/samlaihei/PyQSpecFit/tree/main/data)__ Directory in .csv format. The Wavelength axis should be in the rest-frame and in units of angstroms. The Flux and eFlux axis are in units of erg/s/cm^2/Angstrom and should be in the observed frame.\n",
    "1. Determine which lines you would like to fit, using one of the existing line files in the __[Lines/](https://github.com/samlaihei/PyQSpecFit/tree/main/Lines)__ Directory or create your own. \n",
    "1. Create a runFile in the __[Run_Files/](https://github.com/samlaihei/PyQSpecFit/tree/main/Run_Files)__ Directory. This is a .csv file with most of the parameters an average user would need to customise the fit. This file contains the following columns:\n",
    "    -  runName - ID used to keep track of run. This determines the name of the output file and if two rows are given the same name, their results will be concatenated and treated as the same run.\n",
    "    -  Datafile - location of the data file\n",
    "    -  LineFile - location of the line file\n",
    "    -  redshift - redshift of the target, used primarily to calculate luminosity.\n",
    "    -  N_fits - number of fits to perform in this run. If > 1, the spectrum will be resampled based on its error.\n",
    "    -  ContiWindows - relatively line-free continuum fitting windows\n",
    "    -  LineWindows - wavelength regions used to fit the lines, can have more than one.\n",
    "    -  useBalmer, useFe - toggles to use the Balmer continuum or the FeII models for the pseudo-continuum\n",
    "    -  Fe_uv, Fe_opt - index of the FeII models, each go up to 3. \n",
    "    -  lineShift - global shift of the location of the lines, useful if redshift is incorrect, but usually should not be used. Rather, update the redshift and start the fits over again.\n",
    "    -  smoothStddev - standard deviation for smoothing. Smoothing is on if > 0.\n",
    "    -  clipStddev, clipBoxWidth, clipBufferWidth - parameters for sigma-clipping prior to fitting. Sigma-clipping is on if clipStddev > 0.\n",
    "    -  plotWindow - plotting range, only one range is allowed.\n",
    "    -  lineComplexInd - index of the line complex of interest. The index is determined by the LineFile.\n",
    "1. The file can be run following __[example.py](https://github.com/samlaihei/PyQSpecFit/blob/main/example.py)__. In its simplest form, it is:\n",
    "\n",
    "```python\n",
    "import PyQSpecFit\n",
    "file = 'Run_Files/runFile.csv'\n",
    "example = PyQSpecFit.PyQSpecFit()\n",
    "example.runFile(file)\n",
    "```\n",
    "\n",
    "    while the remaining code is used to evaluate the line properties and plot.\n",
    "\n",
    "\n",
    "## Examples\n",
    "In the example, we have provided UV-optical QSO data of one target. We want to fit the MgII line using three broad components and one narrow component, which is described in __[Lines/Lines_MgII.csv](https://github.com/samlaihei/PyQSpecFit/blob/main/Lines/Lines_MgII.csv)__. We then create the runFile, __[Run_Files/runFile.csv](https://github.com/samlaihei/PyQSpecFit/blob/main/Run_Files/runFile.csv)__, filling in the required columns. We are interested in the total broad line profile, so we choose lineComplexInd = 0, as the three broad lines of MgII are associated by the _Name_ column (the narrow component would be lineComplexInd = 1). We also repeat the run with a different runID to show how multiple targets could be fit.\n",
    "\n",
    "We then show how to use the runFile using __[example.py](https://github.com/samlaihei/PyQSpecFit/blob/main/example.py)__, which we also show below. The key method is runFile().\n"
   ]
  },
  {
   "cell_type": "code",
   "execution_count": 2,
   "id": "f13fdb27-b7cd-4ac0-948b-57abcf00e20c",
   "metadata": {
    "execution": {
     "iopub.execute_input": "2023-05-19T14:46:17.549257Z",
     "iopub.status.busy": "2023-05-19T14:46:17.548123Z",
     "iopub.status.idle": "2023-05-19T14:46:17.560256Z",
     "shell.execute_reply": "2023-05-19T14:46:17.558765Z",
     "shell.execute_reply.started": "2023-05-19T14:46:17.549197Z"
    },
    "tags": []
   },
   "outputs": [],
   "source": [
    "import PyQSpecFit\n",
    "file = 'Run_Files/runFile.csv'"
   ]
  },
  {
   "cell_type": "code",
   "execution_count": 7,
   "id": "08573eb2-f59b-4e05-9fb0-7d125ba4350e",
   "metadata": {
    "execution": {
     "iopub.execute_input": "2023-05-19T14:50:52.659580Z",
     "iopub.status.busy": "2023-05-19T14:50:52.659149Z",
     "iopub.status.idle": "2023-05-19T14:51:13.422894Z",
     "shell.execute_reply": "2023-05-19T14:51:13.422178Z",
     "shell.execute_reply.started": "2023-05-19T14:50:52.659542Z"
    },
    "tags": []
   },
   "outputs": [],
   "source": [
    "%%capture \n",
    "# Suppress the stdout statements which may be useful in practice, \n",
    "# especially when run from terminal, but fills up the notebook\n",
    "\n",
    "example = PyQSpecFit.PyQSpecFit()\n",
    "example.runFile(file)\n"
   ]
  },
  {
   "cell_type": "markdown",
   "id": "1c4fed71-1b0d-48d9-b046-693510ea65c4",
   "metadata": {},
   "source": [
    "The above code blocks create and update two files in __[Line_Params/](https://github.com/samlaihei/PyQSpecFit/tree/main/Line_Params)__ with filenames that match the runName column. To evaluate the line properties of the broad line and plot the fit, we use a few additional methods."
   ]
  },
  {
   "cell_type": "code",
   "execution_count": null,
   "id": "8ecdfd78-97d3-4c8a-bd3c-28d55b4bafc9",
   "metadata": {},
   "outputs": [],
   "source": []
  }
 ],
 "metadata": {
  "kernelspec": {
   "display_name": "PyQSOFit",
   "language": "python",
   "name": "pyqsofit"
  },
  "language_info": {
   "codemirror_mode": {
    "name": "ipython",
    "version": 3
   },
   "file_extension": ".py",
   "mimetype": "text/x-python",
   "name": "python",
   "nbconvert_exporter": "python",
   "pygments_lexer": "ipython3",
   "version": "3.6.13"
  }
 },
 "nbformat": 4,
 "nbformat_minor": 5
}
